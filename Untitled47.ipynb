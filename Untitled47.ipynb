{
 "cells": [
  {
   "cell_type": "markdown",
   "id": "5461c685",
   "metadata": {},
   "source": [
    "# Python Assigmnent Solution 8"
   ]
  },
  {
   "cell_type": "markdown",
   "id": "2aaeeb6b",
   "metadata": {},
   "source": [
    "1. How do you distinguish between shutil.copy() and shutil.copytree()?\n",
    "\n",
    "Ans: shutil.copytree() will copy entire folder like branchers of trees (all files in it)\n",
    " whereas shutil.copy() will copy only single folder\n",
    "\n",
    "2. What function is used to rename files??\n",
    "\n",
    "Ans:First import os module then use os.rename() to rename a file.\n",
    "\n",
    "3. What is the difference between the delete functions in the send2trash and shutil modules?\n",
    "\n",
    "Ans:send2trash sends file to recycle bin and shutil module deletes file permanantly."
   ]
  },
  {
   "cell_type": "markdown",
   "id": "5dcddabf",
   "metadata": {},
   "source": [
    "4.ZipFile objects have a close() method just like File objects’ close() method. What ZipFile method is equivalent to File objects’ open() method?\n",
    "\n",
    "Ans: To open or write to a zipfile we use 'w' as second argument similar to file objects open()"
   ]
  },
  {
   "cell_type": "code",
   "execution_count": 1,
   "id": "f5e43a60",
   "metadata": {},
   "outputs": [],
   "source": [
    "import zipfile as zf\n",
    "a = zf.ZipFile(\"abc.zip\",'w')\n",
    "a.close()\n"
   ]
  },
  {
   "cell_type": "markdown",
   "id": "c7fc6510",
   "metadata": {},
   "source": [
    "5. Create a programme that searches a folder tree for files with a certain file extension (such as .pdf or .jpg). Copy these files from whatever location they are in to a new folder."
   ]
  },
  {
   "cell_type": "code",
   "execution_count": 2,
   "id": "b9496ab9",
   "metadata": {},
   "outputs": [
    {
     "name": "stdout",
     "output_type": "stream",
     "text": [
      "searching --> /Users/avhiraj/randomfolder for ['.pdf', '.jpg'] file\n"
     ]
    }
   ],
   "source": [
    "import os, shutil\n",
    "\n",
    "def search_and_copy(folder, extensions, destFolder):\n",
    "    folder = os.path.abspath(folder)\n",
    "    destFolder = os.path.abspath(destFolder)\n",
    "    print('searching --> {} for {} file'.format(folder,extensions))\n",
    "    for foldername, subfolders, filenames in os.walk(folder):\n",
    "        for filename in filenames:\n",
    "            name, extension = os.path.splitext(filename)\n",
    "            if extension in extensions:\n",
    "                fileAbsPath = foldername + os.path.sep + filename\n",
    "                print('Coping', fileAbsPath, 'to', destFolder)\n",
    "                shutil.copy(fileAbsPath, destFolder)\n",
    "\n",
    "extensions = ['.pdf','.jpg']\n",
    "folder = 'randomfolder'\n",
    "destFolder = 'destination'\n",
    "search_and_copy(folder, extensions, destFolder)"
   ]
  },
  {
   "cell_type": "code",
   "execution_count": null,
   "id": "9504a8f6",
   "metadata": {},
   "outputs": [],
   "source": []
  }
 ],
 "metadata": {
  "kernelspec": {
   "display_name": "Python 3 (ipykernel)",
   "language": "python",
   "name": "python3"
  },
  "language_info": {
   "codemirror_mode": {
    "name": "ipython",
    "version": 3
   },
   "file_extension": ".py",
   "mimetype": "text/x-python",
   "name": "python",
   "nbconvert_exporter": "python",
   "pygments_lexer": "ipython3",
   "version": "3.9.12"
  }
 },
 "nbformat": 4,
 "nbformat_minor": 5
}
